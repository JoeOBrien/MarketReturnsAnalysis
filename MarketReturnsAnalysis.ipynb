{
 "cells": [
  {
   "cell_type": "code",
   "execution_count": 2,
   "metadata": {},
   "outputs": [],
   "source": [
    "import pandas as pd\n",
    "%matplotlib inline\n",
    "monthly = pd.read_csv('f-f_daily_data.csv', header = 0, names = ['Date','MKT-RF','SMB','HML','RF'])\n",
    "monthly['Date'] = pd.to_datetime(monthly['Date'], format = \"%Y%m\")\n",
    "monthly = monthly[monthly['Date'] > '1980-01-01'].copy()"
   ]
  },
  {
   "cell_type": "code",
   "execution_count": 5,
   "metadata": {},
   "outputs": [],
   "source": [
    "mstats = monthly['MKT-RF'].describe()"
   ]
  },
  {
   "cell_type": "markdown",
   "metadata": {},
   "source": [
    "2-sigma: 95.5 percent\n",
    "\n",
    "3-sigma: 99.73 percent\n",
    "\n",
    "4-sigma: 99.993 percent\n",
    "\n",
    "5-sigma: 99.99994 percent"
   ]
  },
  {
   "cell_type": "code",
   "execution_count": 16,
   "metadata": {},
   "outputs": [],
   "source": [
    "sigma_events = [i * mstats['std'] for i in range(0,5)]"
   ]
  },
  {
   "cell_type": "code",
   "execution_count": 30,
   "metadata": {},
   "outputs": [],
   "source": [
    "abs_mkt = pd.DataFrame(monthly['MKT-RF'].apply(lambda x: abs(x)))"
   ]
  },
  {
   "cell_type": "code",
   "execution_count": 31,
   "metadata": {},
   "outputs": [],
   "source": [
    "abs_mkt.columns = ['AbsRet']\n",
    "abs_mkt['Ret'] = monthly['MKT-RF']\n",
    "abs_mkt.index = monthly['Date']"
   ]
  },
  {
   "cell_type": "code",
   "execution_count": 36,
   "metadata": {},
   "outputs": [],
   "source": [
    "fstd = sigma_events[3]"
   ]
  },
  {
   "cell_type": "code",
   "execution_count": 40,
   "metadata": {},
   "outputs": [
    {
     "data": {
      "text/plain": [
       "3.6615213281189294"
      ]
     },
     "execution_count": 40,
     "metadata": {},
     "output_type": "execute_result"
    }
   ],
   "source": [
    "abs_mkt[abs_mkt['AbsRet'] > fstd]['AbsRet'].sum() / abs_mkt['AbsRet'].sum() * 100"
   ]
  },
  {
   "cell_type": "code",
   "execution_count": 68,
   "metadata": {},
   "outputs": [],
   "source": [
    "from io import BytesIO\n",
    "from zipfile import ZipFile\n",
    "from urllib.request import urlopen\n",
    "# or: requests.get(url).content\n",
    "\n",
    "resp = urlopen(\"http://mba.tuck.dartmouth.edu/pages/faculty/ken.french/ftp/F-F_Research_Data_Factors_daily_CSV.zip\")\n",
    "zipfile = ZipFile(BytesIO(resp.read()))\n",
    "\n",
    "\n",
    "FFdata = pd.read_csv(zipfile.open('F-F_Research_Data_Factors_daily.CSV'), \n",
    "                     header = 0, names = ['Date','MKT-RF','SMB','HML','RF'], \n",
    "                     skiprows=3)\n",
    "\n",
    "#Drop last row of data - String\n",
    "FFdata = FFdata[:FFdata['Date'].count() - 1]\n",
    "\n",
    "#Convert YYYYMM into Date\n",
    "FFdata['Date'] = pd.to_datetime(FFdata['Date'], format = \"%Y%m%d\")\n",
    "FFdata.index = FFdata['Date']\n",
    "FFdata.drop(FFdata.columns[0], axis=1,inplace=True)\n",
    "\n",
    "#Drop Days in YYYY-MM-DD\n",
    "FFdata.index = FFdata.index.map(lambda x: x.strftime('%Y-%m-%d'))\n",
    "\n",
    "#Convert into float\n",
    "FFdata = FFdata.astype('float')"
   ]
  },
  {
   "cell_type": "code",
   "execution_count": 72,
   "metadata": {},
   "outputs": [
    {
     "data": {
      "text/plain": [
       "count    24180.000000\n",
       "mean         0.029344\n",
       "std          1.063336\n",
       "min        -17.440000\n",
       "25%         -0.400000\n",
       "50%          0.060000\n",
       "75%          0.490000\n",
       "max         15.760000\n",
       "Name: MKT-RF, dtype: float64"
      ]
     },
     "execution_count": 72,
     "metadata": {},
     "output_type": "execute_result"
    }
   ],
   "source": [
    "FFdata['MKT-RF'].describe()"
   ]
  },
  {
   "cell_type": "code",
   "execution_count": 73,
   "metadata": {},
   "outputs": [],
   "source": [
    "sigma_events = [i * FFdata['MKT-RF'].describe()['std'] for i in range(0,5)]"
   ]
  },
  {
   "cell_type": "code",
   "execution_count": 76,
   "metadata": {},
   "outputs": [],
   "source": [
    "fs = sigma_events[4]"
   ]
  },
  {
   "cell_type": "code",
   "execution_count": 78,
   "metadata": {},
   "outputs": [],
   "source": [
    "fsd = FFdata[FFdata['MKT-RF'].apply(lambda x: abs(x)) > fs]"
   ]
  },
  {
   "cell_type": "code",
   "execution_count": 82,
   "metadata": {},
   "outputs": [
    {
     "data": {
      "text/plain": [
       "0.7485525227460712"
      ]
     },
     "execution_count": 82,
     "metadata": {},
     "output_type": "execute_result"
    }
   ],
   "source": [
    "fsd['MKT-RF'].count() / FFdata['MKT-RF'].count() * 100"
   ]
  },
  {
   "cell_type": "code",
   "execution_count": 84,
   "metadata": {},
   "outputs": [],
   "source": [
    "allmktr = FFdata['MKT-RF'].apply(abs).sum()\n",
    "fsr = fsd['MKT-RF'].apply(abs).sum()"
   ]
  },
  {
   "cell_type": "code",
   "execution_count": 89,
   "metadata": {},
   "outputs": [
    {
     "data": {
      "text/plain": [
       "6.591023637387818"
      ]
     },
     "execution_count": 89,
     "metadata": {},
     "output_type": "execute_result"
    }
   ],
   "source": [
    "(fsr/allmktr) * 100"
   ]
  },
  {
   "cell_type": "code",
   "execution_count": 92,
   "metadata": {},
   "outputs": [
    {
     "data": {
      "text/plain": [
       "0.014508000001168853"
      ]
     },
     "execution_count": 92,
     "metadata": {},
     "output_type": "execute_result"
    }
   ],
   "source": [
    "FFdata['MKT-RF'].count() * (100-99.99994)/100"
   ]
  },
  {
   "cell_type": "code",
   "execution_count": 102,
   "metadata": {},
   "outputs": [],
   "source": [
    "FFdata.index = pd.to_datetime(FFdata.index)"
   ]
  },
  {
   "cell_type": "code",
   "execution_count": 106,
   "metadata": {},
   "outputs": [],
   "source": [
    "ff = FFdata.copy()"
   ]
  },
  {
   "cell_type": "code",
   "execution_count": 112,
   "metadata": {},
   "outputs": [
    {
     "data": {
      "text/plain": [
       "1089.3400000000001"
      ]
     },
     "execution_count": 112,
     "metadata": {},
     "output_type": "execute_result"
    }
   ],
   "source": [
    "fsd['MKT-RF'].apply(abs).sum()"
   ]
  },
  {
   "cell_type": "code",
   "execution_count": 113,
   "metadata": {},
   "outputs": [
    {
     "data": {
      "text/plain": [
       "16527.63"
      ]
     },
     "execution_count": 113,
     "metadata": {},
     "output_type": "execute_result"
    }
   ],
   "source": [
    "ff['MKT-RF'].apply(abs).sum()"
   ]
  },
  {
   "cell_type": "code",
   "execution_count": 116,
   "metadata": {},
   "outputs": [
    {
     "data": {
      "text/plain": [
       "24180"
      ]
     },
     "execution_count": 116,
     "metadata": {},
     "output_type": "execute_result"
    }
   ],
   "source": [
    "ff['RF'].count()"
   ]
  },
  {
   "cell_type": "code",
   "execution_count": 123,
   "metadata": {},
   "outputs": [],
   "source": [
    "nfsd = fsd[fsd['MKT-RF'] < 0]"
   ]
  },
  {
   "cell_type": "code",
   "execution_count": 127,
   "metadata": {},
   "outputs": [],
   "source": [
    "ff['Is5Std'] = ff['MKT-RF'].apply(abs) > fs"
   ]
  },
  {
   "cell_type": "code",
   "execution_count": 151,
   "metadata": {},
   "outputs": [],
   "source": [
    "ff['ModRet'] = ff.apply(lambda row: 0 if row['Is5Std'] & (row['MKT-RF'] > 0) else row['MKT-RF'],axis=1)\n",
    "ff['CModRet'] = ff['ModRet'].cumsum()\n",
    "ff['MKT-RFC'] = ff['MKT-RF'].cumsum()"
   ]
  },
  {
   "cell_type": "code",
   "execution_count": 152,
   "metadata": {},
   "outputs": [
    {
     "data": {
      "text/plain": [
       "<matplotlib.axes._subplots.AxesSubplot at 0x10ac9f208>"
      ]
     },
     "execution_count": 152,
     "metadata": {},
     "output_type": "execute_result"
    },
    {
     "data": {
      "image/png": "[encoded data removed]",
      "text/plain": [
       "<Figure size 432x288 with 1 Axes>"
      ]
     },
     "metadata": {},
     "output_type": "display_data"
    }
   ],
   "source": [
    "ff[['CModRet', 'MKT-RFC']].plot()"
   ]
  },
  {
   "cell_type": "code",
   "execution_count": 146,
   "metadata": {},
   "outputs": [
    {
     "data": {
      "text/plain": [
       "<matplotlib.axes._subplots.AxesSubplot at 0x10ac9fe48>"
      ]
     },
     "execution_count": 146,
     "metadata": {},
     "output_type": "execute_result"
    },
    {
     "data": {
      "image/png": "[encoded data removed]",
      "text/plain": [
       "<Figure size 432x288 with 1 Axes>"
      ]
     },
     "metadata": {},
     "output_type": "display_data"
    }
   ],
   "source": [
    "fsd['MKT-RF'].hist()"
   ]
  },
  {
   "cell_type": "code",
   "execution_count": 150,
   "metadata": {},
   "outputs": [
    {
     "data": {
      "text/html": [
       "<div>\n",
       "<style scoped>\n",
       "    .dataframe tbody tr th:only-of-type {\n",
       "        vertical-align: middle;\n",
       "    }\n",
       "\n",
       "    .dataframe tbody tr th {\n",
       "        vertical-align: top;\n",
       "    }\n",
       "\n",
       "    .dataframe thead th {\n",
       "        text-align: right;\n",
       "    }\n",
       "</style>\n",
       "<table border=\"1\" class=\"dataframe\">\n",
       "  <thead>\n",
       "    <tr style=\"text-align: right;\">\n",
       "      <th></th>\n",
       "      <th>MKT-RF</th>\n",
       "      <th>SMB</th>\n",
       "      <th>HML</th>\n",
       "      <th>RF</th>\n",
       "    </tr>\n",
       "    <tr>\n",
       "      <th>Date</th>\n",
       "      <th></th>\n",
       "      <th></th>\n",
       "      <th></th>\n",
       "      <th></th>\n",
       "    </tr>\n",
       "  </thead>\n",
       "  <tbody>\n",
       "    <tr>\n",
       "      <th>1929-10-23</th>\n",
       "      <td>-5.65</td>\n",
       "      <td>0.68</td>\n",
       "      <td>0.58</td>\n",
       "      <td>0.018</td>\n",
       "    </tr>\n",
       "    <tr>\n",
       "      <th>1929-10-28</th>\n",
       "      <td>-11.29</td>\n",
       "      <td>1.26</td>\n",
       "      <td>3.96</td>\n",
       "      <td>0.018</td>\n",
       "    </tr>\n",
       "    <tr>\n",
       "      <th>1929-10-29</th>\n",
       "      <td>-12.01</td>\n",
       "      <td>0.26</td>\n",
       "      <td>2.12</td>\n",
       "      <td>0.018</td>\n",
       "    </tr>\n",
       "    <tr>\n",
       "      <th>1929-10-30</th>\n",
       "      <td>12.16</td>\n",
       "      <td>-7.25</td>\n",
       "      <td>-2.10</td>\n",
       "      <td>0.018</td>\n",
       "    </tr>\n",
       "    <tr>\n",
       "      <th>1929-10-31</th>\n",
       "      <td>6.10</td>\n",
       "      <td>2.51</td>\n",
       "      <td>-1.80</td>\n",
       "      <td>0.018</td>\n",
       "    </tr>\n",
       "    <tr>\n",
       "      <th>1929-11-04</th>\n",
       "      <td>-4.29</td>\n",
       "      <td>1.96</td>\n",
       "      <td>1.65</td>\n",
       "      <td>0.022</td>\n",
       "    </tr>\n",
       "    <tr>\n",
       "      <th>1929-11-06</th>\n",
       "      <td>-9.75</td>\n",
       "      <td>1.59</td>\n",
       "      <td>2.40</td>\n",
       "      <td>0.022</td>\n",
       "    </tr>\n",
       "    <tr>\n",
       "      <th>1929-11-11</th>\n",
       "      <td>-5.60</td>\n",
       "      <td>1.52</td>\n",
       "      <td>1.90</td>\n",
       "      <td>0.022</td>\n",
       "    </tr>\n",
       "    <tr>\n",
       "      <th>1929-11-12</th>\n",
       "      <td>-6.00</td>\n",
       "      <td>-1.14</td>\n",
       "      <td>0.45</td>\n",
       "      <td>0.022</td>\n",
       "    </tr>\n",
       "    <tr>\n",
       "      <th>1929-11-13</th>\n",
       "      <td>-5.58</td>\n",
       "      <td>-1.91</td>\n",
       "      <td>1.18</td>\n",
       "      <td>0.022</td>\n",
       "    </tr>\n",
       "    <tr>\n",
       "      <th>1929-11-14</th>\n",
       "      <td>7.85</td>\n",
       "      <td>-2.84</td>\n",
       "      <td>-1.76</td>\n",
       "      <td>0.022</td>\n",
       "    </tr>\n",
       "    <tr>\n",
       "      <th>1929-11-15</th>\n",
       "      <td>6.23</td>\n",
       "      <td>1.39</td>\n",
       "      <td>-2.63</td>\n",
       "      <td>0.022</td>\n",
       "    </tr>\n",
       "    <tr>\n",
       "      <th>1929-12-12</th>\n",
       "      <td>-4.95</td>\n",
       "      <td>1.24</td>\n",
       "      <td>1.03</td>\n",
       "      <td>0.015</td>\n",
       "    </tr>\n",
       "    <tr>\n",
       "      <th>1930-06-16</th>\n",
       "      <td>-5.38</td>\n",
       "      <td>-0.85</td>\n",
       "      <td>0.85</td>\n",
       "      <td>0.011</td>\n",
       "    </tr>\n",
       "    <tr>\n",
       "      <th>1930-06-19</th>\n",
       "      <td>4.27</td>\n",
       "      <td>-0.32</td>\n",
       "      <td>-1.01</td>\n",
       "      <td>0.011</td>\n",
       "    </tr>\n",
       "    <tr>\n",
       "      <th>1931-04-30</th>\n",
       "      <td>4.63</td>\n",
       "      <td>-1.69</td>\n",
       "      <td>2.00</td>\n",
       "      <td>0.003</td>\n",
       "    </tr>\n",
       "    <tr>\n",
       "      <th>1931-06-01</th>\n",
       "      <td>-4.37</td>\n",
       "      <td>0.94</td>\n",
       "      <td>-0.89</td>\n",
       "      <td>0.003</td>\n",
       "    </tr>\n",
       "    <tr>\n",
       "      <th>1931-06-03</th>\n",
       "      <td>6.37</td>\n",
       "      <td>-4.53</td>\n",
       "      <td>1.40</td>\n",
       "      <td>0.003</td>\n",
       "    </tr>\n",
       "    <tr>\n",
       "      <th>1931-06-20</th>\n",
       "      <td>5.07</td>\n",
       "      <td>-3.34</td>\n",
       "      <td>0.82</td>\n",
       "      <td>0.003</td>\n",
       "    </tr>\n",
       "    <tr>\n",
       "      <th>1931-09-18</th>\n",
       "      <td>-4.47</td>\n",
       "      <td>2.93</td>\n",
       "      <td>-2.02</td>\n",
       "      <td>0.001</td>\n",
       "    </tr>\n",
       "    <tr>\n",
       "      <th>1931-09-23</th>\n",
       "      <td>6.49</td>\n",
       "      <td>-4.40</td>\n",
       "      <td>7.50</td>\n",
       "      <td>0.001</td>\n",
       "    </tr>\n",
       "    <tr>\n",
       "      <th>1931-09-24</th>\n",
       "      <td>-6.80</td>\n",
       "      <td>5.57</td>\n",
       "      <td>-1.86</td>\n",
       "      <td>0.001</td>\n",
       "    </tr>\n",
       "    <tr>\n",
       "      <th>1931-10-05</th>\n",
       "      <td>-5.84</td>\n",
       "      <td>1.37</td>\n",
       "      <td>-3.52</td>\n",
       "      <td>0.004</td>\n",
       "    </tr>\n",
       "    <tr>\n",
       "      <th>1931-10-06</th>\n",
       "      <td>11.16</td>\n",
       "      <td>-6.05</td>\n",
       "      <td>1.36</td>\n",
       "      <td>0.004</td>\n",
       "    </tr>\n",
       "    <tr>\n",
       "      <th>1931-10-08</th>\n",
       "      <td>7.91</td>\n",
       "      <td>-3.97</td>\n",
       "      <td>3.11</td>\n",
       "      <td>0.004</td>\n",
       "    </tr>\n",
       "    <tr>\n",
       "      <th>1931-10-13</th>\n",
       "      <td>-4.81</td>\n",
       "      <td>3.22</td>\n",
       "      <td>-1.48</td>\n",
       "      <td>0.004</td>\n",
       "    </tr>\n",
       "    <tr>\n",
       "      <th>1931-12-18</th>\n",
       "      <td>7.97</td>\n",
       "      <td>-6.23</td>\n",
       "      <td>4.75</td>\n",
       "      <td>0.005</td>\n",
       "    </tr>\n",
       "    <tr>\n",
       "      <th>1932-01-06</th>\n",
       "      <td>6.44</td>\n",
       "      <td>-4.30</td>\n",
       "      <td>2.95</td>\n",
       "      <td>0.009</td>\n",
       "    </tr>\n",
       "    <tr>\n",
       "      <th>1932-01-13</th>\n",
       "      <td>4.52</td>\n",
       "      <td>-2.02</td>\n",
       "      <td>0.57</td>\n",
       "      <td>0.009</td>\n",
       "    </tr>\n",
       "    <tr>\n",
       "      <th>1932-02-11</th>\n",
       "      <td>7.38</td>\n",
       "      <td>-5.33</td>\n",
       "      <td>1.03</td>\n",
       "      <td>0.010</td>\n",
       "    </tr>\n",
       "    <tr>\n",
       "      <th>...</th>\n",
       "      <td>...</td>\n",
       "      <td>...</td>\n",
       "      <td>...</td>\n",
       "      <td>...</td>\n",
       "    </tr>\n",
       "    <tr>\n",
       "      <th>2008-10-16</th>\n",
       "      <td>4.32</td>\n",
       "      <td>2.17</td>\n",
       "      <td>-1.63</td>\n",
       "      <td>0.004</td>\n",
       "    </tr>\n",
       "    <tr>\n",
       "      <th>2008-10-20</th>\n",
       "      <td>4.55</td>\n",
       "      <td>-1.24</td>\n",
       "      <td>-0.87</td>\n",
       "      <td>0.004</td>\n",
       "    </tr>\n",
       "    <tr>\n",
       "      <th>2008-10-22</th>\n",
       "      <td>-5.76</td>\n",
       "      <td>0.90</td>\n",
       "      <td>0.13</td>\n",
       "      <td>0.004</td>\n",
       "    </tr>\n",
       "    <tr>\n",
       "      <th>2008-10-28</th>\n",
       "      <td>9.77</td>\n",
       "      <td>-3.75</td>\n",
       "      <td>0.27</td>\n",
       "      <td>0.004</td>\n",
       "    </tr>\n",
       "    <tr>\n",
       "      <th>2008-11-05</th>\n",
       "      <td>-5.05</td>\n",
       "      <td>0.20</td>\n",
       "      <td>-1.46</td>\n",
       "      <td>0.001</td>\n",
       "    </tr>\n",
       "    <tr>\n",
       "      <th>2008-11-06</th>\n",
       "      <td>-4.83</td>\n",
       "      <td>1.55</td>\n",
       "      <td>-0.41</td>\n",
       "      <td>0.001</td>\n",
       "    </tr>\n",
       "    <tr>\n",
       "      <th>2008-11-12</th>\n",
       "      <td>-5.14</td>\n",
       "      <td>-0.50</td>\n",
       "      <td>-1.07</td>\n",
       "      <td>0.001</td>\n",
       "    </tr>\n",
       "    <tr>\n",
       "      <th>2008-11-13</th>\n",
       "      <td>6.79</td>\n",
       "      <td>0.75</td>\n",
       "      <td>-0.11</td>\n",
       "      <td>0.001</td>\n",
       "    </tr>\n",
       "    <tr>\n",
       "      <th>2008-11-14</th>\n",
       "      <td>-4.27</td>\n",
       "      <td>-2.23</td>\n",
       "      <td>0.03</td>\n",
       "      <td>0.001</td>\n",
       "    </tr>\n",
       "    <tr>\n",
       "      <th>2008-11-19</th>\n",
       "      <td>-6.29</td>\n",
       "      <td>-0.03</td>\n",
       "      <td>-3.09</td>\n",
       "      <td>0.001</td>\n",
       "    </tr>\n",
       "    <tr>\n",
       "      <th>2008-11-20</th>\n",
       "      <td>-6.60</td>\n",
       "      <td>1.70</td>\n",
       "      <td>-2.49</td>\n",
       "      <td>0.001</td>\n",
       "    </tr>\n",
       "    <tr>\n",
       "      <th>2008-11-21</th>\n",
       "      <td>6.11</td>\n",
       "      <td>-1.25</td>\n",
       "      <td>-2.04</td>\n",
       "      <td>0.001</td>\n",
       "    </tr>\n",
       "    <tr>\n",
       "      <th>2008-11-24</th>\n",
       "      <td>6.27</td>\n",
       "      <td>-1.32</td>\n",
       "      <td>4.65</td>\n",
       "      <td>0.001</td>\n",
       "    </tr>\n",
       "    <tr>\n",
       "      <th>2008-12-01</th>\n",
       "      <td>-8.95</td>\n",
       "      <td>-0.74</td>\n",
       "      <td>-3.52</td>\n",
       "      <td>0.000</td>\n",
       "    </tr>\n",
       "    <tr>\n",
       "      <th>2008-12-16</th>\n",
       "      <td>5.15</td>\n",
       "      <td>-0.18</td>\n",
       "      <td>2.42</td>\n",
       "      <td>0.000</td>\n",
       "    </tr>\n",
       "    <tr>\n",
       "      <th>2009-01-20</th>\n",
       "      <td>-5.34</td>\n",
       "      <td>0.12</td>\n",
       "      <td>-3.90</td>\n",
       "      <td>0.000</td>\n",
       "    </tr>\n",
       "    <tr>\n",
       "      <th>2009-02-10</th>\n",
       "      <td>-4.62</td>\n",
       "      <td>1.06</td>\n",
       "      <td>-2.78</td>\n",
       "      <td>0.001</td>\n",
       "    </tr>\n",
       "    <tr>\n",
       "      <th>2009-02-17</th>\n",
       "      <td>-4.36</td>\n",
       "      <td>1.00</td>\n",
       "      <td>-2.30</td>\n",
       "      <td>0.001</td>\n",
       "    </tr>\n",
       "    <tr>\n",
       "      <th>2009-03-02</th>\n",
       "      <td>-4.75</td>\n",
       "      <td>-0.24</td>\n",
       "      <td>-0.29</td>\n",
       "      <td>0.001</td>\n",
       "    </tr>\n",
       "    <tr>\n",
       "      <th>2009-03-10</th>\n",
       "      <td>6.35</td>\n",
       "      <td>-0.91</td>\n",
       "      <td>4.15</td>\n",
       "      <td>0.001</td>\n",
       "    </tr>\n",
       "    <tr>\n",
       "      <th>2009-03-23</th>\n",
       "      <td>6.89</td>\n",
       "      <td>-0.65</td>\n",
       "      <td>4.03</td>\n",
       "      <td>0.001</td>\n",
       "    </tr>\n",
       "    <tr>\n",
       "      <th>2009-04-20</th>\n",
       "      <td>-4.32</td>\n",
       "      <td>0.05</td>\n",
       "      <td>-4.22</td>\n",
       "      <td>0.001</td>\n",
       "    </tr>\n",
       "    <tr>\n",
       "      <th>2010-05-10</th>\n",
       "      <td>4.47</td>\n",
       "      <td>0.97</td>\n",
       "      <td>1.17</td>\n",
       "      <td>0.001</td>\n",
       "    </tr>\n",
       "    <tr>\n",
       "      <th>2011-08-04</th>\n",
       "      <td>-5.04</td>\n",
       "      <td>-0.83</td>\n",
       "      <td>0.31</td>\n",
       "      <td>0.000</td>\n",
       "    </tr>\n",
       "    <tr>\n",
       "      <th>2011-08-08</th>\n",
       "      <td>-6.97</td>\n",
       "      <td>-1.45</td>\n",
       "      <td>-1.56</td>\n",
       "      <td>0.000</td>\n",
       "    </tr>\n",
       "    <tr>\n",
       "      <th>2011-08-09</th>\n",
       "      <td>4.97</td>\n",
       "      <td>0.93</td>\n",
       "      <td>0.66</td>\n",
       "      <td>0.000</td>\n",
       "    </tr>\n",
       "    <tr>\n",
       "      <th>2011-08-10</th>\n",
       "      <td>-4.30</td>\n",
       "      <td>-0.55</td>\n",
       "      <td>-1.49</td>\n",
       "      <td>0.000</td>\n",
       "    </tr>\n",
       "    <tr>\n",
       "      <th>2011-08-11</th>\n",
       "      <td>4.72</td>\n",
       "      <td>0.32</td>\n",
       "      <td>0.61</td>\n",
       "      <td>0.000</td>\n",
       "    </tr>\n",
       "    <tr>\n",
       "      <th>2011-08-18</th>\n",
       "      <td>-4.65</td>\n",
       "      <td>-1.02</td>\n",
       "      <td>0.58</td>\n",
       "      <td>0.000</td>\n",
       "    </tr>\n",
       "    <tr>\n",
       "      <th>2011-11-30</th>\n",
       "      <td>4.44</td>\n",
       "      <td>1.05</td>\n",
       "      <td>1.08</td>\n",
       "      <td>0.000</td>\n",
       "    </tr>\n",
       "  </tbody>\n",
       "</table>\n",
       "<p>181 rows × 4 columns</p>\n",
       "</div>"
      ],
      "text/plain": [
       "            MKT-RF   SMB   HML     RF\n",
       "Date                                 \n",
       "1929-10-23   -5.65  0.68  0.58  0.018\n",
       "1929-10-28  -11.29  1.26  3.96  0.018\n",
       "1929-10-29  -12.01  0.26  2.12  0.018\n",
       "1929-10-30   12.16 -7.25 -2.10  0.018\n",
       "1929-10-31    6.10  2.51 -1.80  0.018\n",
       "1929-11-04   -4.29  1.96  1.65  0.022\n",
       "1929-11-06   -9.75  1.59  2.40  0.022\n",
       "1929-11-11   -5.60  1.52  1.90  0.022\n",
       "1929-11-12   -6.00 -1.14  0.45  0.022\n",
       "1929-11-13   -5.58 -1.91  1.18  0.022\n",
       "1929-11-14    7.85 -2.84 -1.76  0.022\n",
       "1929-11-15    6.23  1.39 -2.63  0.022\n",
       "1929-12-12   -4.95  1.24  1.03  0.015\n",
       "1930-06-16   -5.38 -0.85  0.85  0.011\n",
       "1930-06-19    4.27 -0.32 -1.01  0.011\n",
       "1931-04-30    4.63 -1.69  2.00  0.003\n",
       "1931-06-01   -4.37  0.94 -0.89  0.003\n",
       "1931-06-03    6.37 -4.53  1.40  0.003\n",
       "1931-06-20    5.07 -3.34  0.82  0.003\n",
       "1931-09-18   -4.47  2.93 -2.02  0.001\n",
       "1931-09-23    6.49 -4.40  7.50  0.001\n",
       "1931-09-24   -6.80  5.57 -1.86  0.001\n",
       "1931-10-05   -5.84  1.37 -3.52  0.004\n",
       "1931-10-06   11.16 -6.05  1.36  0.004\n",
       "1931-10-08    7.91 -3.97  3.11  0.004\n",
       "1931-10-13   -4.81  3.22 -1.48  0.004\n",
       "1931-12-18    7.97 -6.23  4.75  0.005\n",
       "1932-01-06    6.44 -4.30  2.95  0.009\n",
       "1932-01-13    4.52 -2.02  0.57  0.009\n",
       "1932-02-11    7.38 -5.33  1.03  0.010\n",
       "...            ...   ...   ...    ...\n",
       "2008-10-16    4.32  2.17 -1.63  0.004\n",
       "2008-10-20    4.55 -1.24 -0.87  0.004\n",
       "2008-10-22   -5.76  0.90  0.13  0.004\n",
       "2008-10-28    9.77 -3.75  0.27  0.004\n",
       "2008-11-05   -5.05  0.20 -1.46  0.001\n",
       "2008-11-06   -4.83  1.55 -0.41  0.001\n",
       "2008-11-12   -5.14 -0.50 -1.07  0.001\n",
       "2008-11-13    6.79  0.75 -0.11  0.001\n",
       "2008-11-14   -4.27 -2.23  0.03  0.001\n",
       "2008-11-19   -6.29 -0.03 -3.09  0.001\n",
       "2008-11-20   -6.60  1.70 -2.49  0.001\n",
       "2008-11-21    6.11 -1.25 -2.04  0.001\n",
       "2008-11-24    6.27 -1.32  4.65  0.001\n",
       "2008-12-01   -8.95 -0.74 -3.52  0.000\n",
       "2008-12-16    5.15 -0.18  2.42  0.000\n",
       "2009-01-20   -5.34  0.12 -3.90  0.000\n",
       "2009-02-10   -4.62  1.06 -2.78  0.001\n",
       "2009-02-17   -4.36  1.00 -2.30  0.001\n",
       "2009-03-02   -4.75 -0.24 -0.29  0.001\n",
       "2009-03-10    6.35 -0.91  4.15  0.001\n",
       "2009-03-23    6.89 -0.65  4.03  0.001\n",
       "2009-04-20   -4.32  0.05 -4.22  0.001\n",
       "2010-05-10    4.47  0.97  1.17  0.001\n",
       "2011-08-04   -5.04 -0.83  0.31  0.000\n",
       "2011-08-08   -6.97 -1.45 -1.56  0.000\n",
       "2011-08-09    4.97  0.93  0.66  0.000\n",
       "2011-08-10   -4.30 -0.55 -1.49  0.000\n",
       "2011-08-11    4.72  0.32  0.61  0.000\n",
       "2011-08-18   -4.65 -1.02  0.58  0.000\n",
       "2011-11-30    4.44  1.05  1.08  0.000\n",
       "\n",
       "[181 rows x 4 columns]"
      ]
     },
     "execution_count": 150,
     "metadata": {},
     "output_type": "execute_result"
    }
   ],
   "source": [
    "fsd"
   ]
  },
  {
   "cell_type": "code",
   "execution_count": 154,
   "metadata": {},
   "outputs": [],
   "source": [
    "days = ff.count()['MKT-RF']"
   ]
  },
  {
   "cell_type": "code",
   "execution_count": 156,
   "metadata": {},
   "outputs": [
    {
     "data": {
      "text/plain": [
       "0.014508000000417187"
      ]
     },
     "execution_count": 156,
     "metadata": {},
     "output_type": "execute_result"
    }
   ],
   "source": [
    "days * (1-.9999994)"
   ]
  },
  {
   "cell_type": "code",
   "execution_count": 157,
   "metadata": {},
   "outputs": [
    {
     "data": {
      "text/plain": [
       "181"
      ]
     },
     "execution_count": 157,
     "metadata": {},
     "output_type": "execute_result"
    }
   ],
   "source": [
    "fsd['MKT-RF'].count()"
   ]
  },
  {
   "cell_type": "code",
   "execution_count": 158,
   "metadata": {},
   "outputs": [
    {
     "data": {
      "text/plain": [
       "<matplotlib.axes._subplots.AxesSubplot at 0x1121132b0>"
      ]
     },
     "execution_count": 158,
     "metadata": {},
     "output_type": "execute_result"
    },
    {
     "data": {
      "image/png": "[encoded data removed]",
      "text/plain": [
       "<Figure size 432x288 with 1 Axes>"
      ]
     },
     "metadata": {},
     "output_type": "display_data"
    }
   ],
   "source": [
    "ff['MKT-RF'].hist()"
   ]
  },
  {
   "cell_type": "code",
   "execution_count": 160,
   "metadata": {},
   "outputs": [
    {
     "data": {
      "text/plain": [
       "<matplotlib.axes._subplots.AxesSubplot at 0x10b0caf98>"
      ]
     },
     "execution_count": 160,
     "metadata": {},
     "output_type": "execute_result"
    },
    {
     "data": {
      "image/png": "[encoded data removed]",
      "text/plain": [
       "<Figure size 432x288 with 1 Axes>"
      ]
     },
     "metadata": {},
     "output_type": "display_data"
    }
   ],
   "source": [
    "fsd['MKT-RF'].hist()"
   ]
  },
  {
   "cell_type": "code",
   "execution_count": null,
   "metadata": {},
   "outputs": [],
   "source": []
  }
 ],
 "metadata": {
  "kernelspec": {
   "display_name": "Python 3",
   "language": "python",
   "name": "python3"
  },
  "language_info": {
   "codemirror_mode": {
    "name": "ipython",
    "version": 3
   },
   "file_extension": ".py",
   "mimetype": "text/x-python",
   "name": "python",
   "nbconvert_exporter": "python",
   "pygments_lexer": "ipython3",
   "version": "3.6.3"
  }
 },
 "nbformat": 4,
 "nbformat_minor": 2
}
